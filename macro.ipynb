{
 "cells": [
  {
   "cell_type": "code",
   "execution_count": 4,
   "metadata": {},
   "outputs": [
    {
     "name": "stdout",
     "output_type": "stream",
     "text": [
      "Libraries Loaded\n"
     ]
    }
   ],
   "source": [
    "#add your libraries and functions here\n",
    "from googlesearch import search \n",
    "import requests\n",
    "from bs4 import BeautifulSoup\n",
    "import pandas as pd\n",
    "import numpy as np\n",
    "import seaborn as sns\n",
    "import matplotlib.pyplot as plt\n",
    "\n",
    "def stack_search(error):\n",
    "    try:\n",
    "        query = error+'stackoverflow'\n",
    "        for url in search(query,num_results=2): \n",
    "            page = requests.get(url)\n",
    "            soup = BeautifulSoup(page.content, 'html.parser')\n",
    "            results = soup.find('div',class_='answercell post-layout--right')\n",
    "            print(results.div.text)\n",
    "            print('-------------------------------------------------------------')\n",
    "    except AttributeError:\n",
    "        print('End of Results')\n",
    "        \n",
    "print(\"Libraries Loaded\")"
   ]
  },
  {
   "cell_type": "code",
   "execution_count": null,
   "metadata": {},
   "outputs": [],
   "source": [
    "%macro -q __basic 1    #change name from basic to anything you want\n",
    "\n",
    "#open your ipython config file located at \"C:\\Users\\uagga\\.ipython\\profile_default\"\n",
    "#if not available run \"ipython profile create\" in the terminal\n",
    "#copy this code and save it\n",
    "# c = get_config()\n",
    "# c.StoreMagics.autorestore = True\n",
    "\n",
    "%store __basic\n",
    "%store -r __basic   #store thsi macro in your global variable"
   ]
  },
  {
   "cell_type": "code",
   "execution_count": 6,
   "metadata": {},
   "outputs": [
    {
     "name": "stdout",
     "output_type": "stream",
     "text": [
      "done\n"
     ]
    }
   ],
   "source": [
    "__basic"
   ]
  }
 ],
 "metadata": {
  "kernelspec": {
   "display_name": "Python 3",
   "language": "python",
   "name": "python3"
  },
  "language_info": {
   "codemirror_mode": {
    "name": "ipython",
    "version": 3
   },
   "file_extension": ".py",
   "mimetype": "text/x-python",
   "name": "python",
   "nbconvert_exporter": "python",
   "pygments_lexer": "ipython3",
   "version": "3.8.5"
  }
 },
 "nbformat": 4,
 "nbformat_minor": 4
}
