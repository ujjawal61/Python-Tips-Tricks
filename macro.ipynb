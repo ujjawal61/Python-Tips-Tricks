{
 "cells": [
  {
   "cell_type": "code",
   "execution_count": 1,
   "metadata": {},
   "outputs": [
    {
     "name": "stdout",
     "output_type": "stream",
     "text": [
      "Libraries Loaded\n"
     ]
    }
   ],
   "source": [
    "#add your libraries and functions here\n",
    "from googlesearch import search \n",
    "import requests\n",
    "from bs4 import BeautifulSoup\n",
    "import pandas as pd\n",
    "import numpy as np\n",
    "import seaborn as sns\n",
    "import matplotlib.pyplot as plt\n",
    "\n",
    "def stack_search(error):\n",
    "    try:\n",
    "        query = error+'stackoverflow'\n",
    "        for url in search(query,num_results=2): \n",
    "            page = requests.get(url)\n",
    "            soup = BeautifulSoup(page.content, 'html.parser')\n",
    "            results = soup.find('div',class_='answercell post-layout--right')\n",
    "            print(results.div.text)\n",
    "            print('-------------------------------------------------------------')\n",
    "    except AttributeError:\n",
    "        print('End of Results')\n",
    "        \n",
    "print(\"Libraries Loaded\")"
   ]
  },
  {
   "cell_type": "code",
   "execution_count": 2,
   "metadata": {},
   "outputs": [
    {
     "name": "stdout",
     "output_type": "stream",
     "text": [
      "Stored '__basic' (Macro)\n",
      "no stored variable or alias #store\n",
      "no stored variable or alias thsi\n",
      "no stored variable or alias macro\n",
      "no stored variable or alias in\n",
      "no stored variable or alias your\n",
      "no stored variable or alias global\n",
      "no stored variable or alias variable\n"
     ]
    }
   ],
   "source": [
    "%macro -q __basic 1    #change name from basic to anything you want\n",
    "\n",
    "#open your ipython config file located at \"C:\\Users\\uagga\\.ipython\\profile_default\"\n",
    "#if not available run \"ipython profile create\" in the terminal\n",
    "#copy this code and save it\n",
    "# c = get_config()\n",
    "# c.StoreMagics.autorestore = True\n",
    "\n",
    "%store __basic\n",
    "%store -r __basic   #store thsi macro in your global variable"
   ]
  },
  {
   "cell_type": "code",
   "execution_count": 4,
   "metadata": {},
   "outputs": [],
   "source": [
    "#now restart your kernel and directly run this cell. You'll notice everything is Loaded."
   ]
  },
  {
   "cell_type": "code",
   "execution_count": 1,
   "metadata": {},
   "outputs": [
    {
     "name": "stdout",
     "output_type": "stream",
     "text": [
      "Libraries Loaded\n"
     ]
    }
   ],
   "source": [
    "__basic"
   ]
  },
  {
   "cell_type": "code",
   "execution_count": 2,
   "metadata": {},
   "outputs": [
    {
     "name": "stdout",
     "output_type": "stream",
     "text": [
      "\n",
      "Replace:\n",
      "for i in range(1, 31):\n",
      "\n",
      "with:\n",
      "for d in Data[1:31]: #since you have range(1,31). Do Data[1:] if you just want to skip the first\n",
      "    OneDate.append(d[0])\n",
      "    OneClose.append(d[4])\n",
      "\n",
      "This usually happends when Data array has less than 31 indices. Also ensure d array has atleast 5 items, else d[4] will also throw a similar error. Use:\n",
      "if len(d) >= 5:  #check first.\n",
      "    OneDate.append(d[0])\n",
      "    OneClose.append(d[4])\n",
      "\n",
      "\n",
      "-------------------------------------------------------------\n",
      "\n",
      "If you're appending to list, you don't need to use index (by using n_list[i] you're pointing to i-th element of the array):\n",
      "n_list = []\n",
      "n = int(input())\n",
      "for i in range (0,n):\n",
      "    print(i)\n",
      "    name = input()\n",
      "    n_list.append(name)\n",
      "    val = int(input())\n",
      "    n_list.append(val)\n",
      "print(n_list)\n",
      "\n",
      "I you want to nest lists, do this:\n",
      "n_list = []\n",
      "n = int(input())\n",
      "for i in range (0,n):\n",
      "    print(i)\n",
      "    inner_list = []\n",
      "    name = input()\n",
      "    inner_list.append(name)\n",
      "    val = int(input())\n",
      "    inner_list.append(val)\n",
      "    n_list.append(inner_list)\n",
      "print(n_list)\n",
      "\n",
      "\n",
      "-------------------------------------------------------------\n",
      "\n",
      "You may try this instead:\n",
      "def getMoneySpent(keyboards, drives, b):\n",
      "    q = []\n",
      "    for k in keyboards :\n",
      "        for d in drives :\n",
      "            price = k + d\n",
      "            if price <= b :\n",
      "                q.append(price) \n",
      "\n",
      "    return max(q) if q else -1\n",
      "\n",
      "Instead of removing elements, just don't add them in the first place...\n",
      "\n",
      "-------------------------------------------------------------\n"
     ]
    }
   ],
   "source": [
    "stack_search(\"List Index Out of Range\")"
   ]
  },
  {
   "cell_type": "code",
   "execution_count": null,
   "metadata": {},
   "outputs": [],
   "source": []
  }
 ],
 "metadata": {
  "kernelspec": {
   "display_name": "Python 3",
   "language": "python",
   "name": "python3"
  },
  "language_info": {
   "codemirror_mode": {
    "name": "ipython",
    "version": 3
   },
   "file_extension": ".py",
   "mimetype": "text/x-python",
   "name": "python",
   "nbconvert_exporter": "python",
   "pygments_lexer": "ipython3",
   "version": "3.8.5"
  }
 },
 "nbformat": 4,
 "nbformat_minor": 4
}
